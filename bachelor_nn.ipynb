{
 "cells": [
  {
   "cell_type": "code",
   "execution_count": 1,
   "metadata": {},
   "outputs": [],
   "source": [
    "import os \n",
    "import csv\n",
    "import pandas as pd \n",
    "import numpy as np"
   ]
  },
  {
   "cell_type": "code",
   "execution_count": 2,
   "metadata": {},
   "outputs": [
    {
     "data": {
      "text/html": [
       "<div>\n",
       "<style scoped>\n",
       "    .dataframe tbody tr th:only-of-type {\n",
       "        vertical-align: middle;\n",
       "    }\n",
       "\n",
       "    .dataframe tbody tr th {\n",
       "        vertical-align: top;\n",
       "    }\n",
       "\n",
       "    .dataframe thead th {\n",
       "        text-align: right;\n",
       "    }\n",
       "</style>\n",
       "<table border=\"1\" class=\"dataframe\">\n",
       "  <thead>\n",
       "    <tr style=\"text-align: right;\">\n",
       "      <th></th>\n",
       "      <th>Name</th>\n",
       "      <th>Age</th>\n",
       "      <th>Occupation</th>\n",
       "      <th>Job Category</th>\n",
       "      <th>Job Category Description</th>\n",
       "      <th>Hometown</th>\n",
       "      <th>State</th>\n",
       "      <th>Height(in)</th>\n",
       "      <th>Weight(lbs)</th>\n",
       "      <th>Hair Color Code</th>\n",
       "      <th>Hair Color</th>\n",
       "      <th>Eye Color Code</th>\n",
       "      <th>Eye Color</th>\n",
       "      <th>ElimWeek</th>\n",
       "      <th>Season</th>\n",
       "    </tr>\n",
       "  </thead>\n",
       "  <tbody>\n",
       "    <tr>\n",
       "      <th>0</th>\n",
       "      <td>Amanda</td>\n",
       "      <td>23</td>\n",
       "      <td>Event Planner</td>\n",
       "      <td>6</td>\n",
       "      <td>Service</td>\n",
       "      <td>Chanute</td>\n",
       "      <td>Kansas</td>\n",
       "      <td>65.0</td>\n",
       "      <td>91</td>\n",
       "      <td>2</td>\n",
       "      <td>Blonde</td>\n",
       "      <td>1</td>\n",
       "      <td>Blue</td>\n",
       "      <td>1</td>\n",
       "      <td>1</td>\n",
       "    </tr>\n",
       "    <tr>\n",
       "      <th>1</th>\n",
       "      <td>Trista</td>\n",
       "      <td>29</td>\n",
       "      <td>Miami Heat Dancer</td>\n",
       "      <td>5</td>\n",
       "      <td>Corporate</td>\n",
       "      <td>Miami</td>\n",
       "      <td>Florida</td>\n",
       "      <td>66.0</td>\n",
       "      <td>104</td>\n",
       "      <td>1</td>\n",
       "      <td>Black</td>\n",
       "      <td>2</td>\n",
       "      <td>Brown</td>\n",
       "      <td>6</td>\n",
       "      <td>1</td>\n",
       "    </tr>\n",
       "    <tr>\n",
       "      <th>2</th>\n",
       "      <td>Shannon</td>\n",
       "      <td>24</td>\n",
       "      <td>Financial Management Consultant</td>\n",
       "      <td>8</td>\n",
       "      <td>Entertainment</td>\n",
       "      <td>Dallas</td>\n",
       "      <td>Texas</td>\n",
       "      <td>64.0</td>\n",
       "      <td>156</td>\n",
       "      <td>2</td>\n",
       "      <td>Blonde</td>\n",
       "      <td>4</td>\n",
       "      <td>Black</td>\n",
       "      <td>5</td>\n",
       "      <td>1</td>\n",
       "    </tr>\n",
       "    <tr>\n",
       "      <th>3</th>\n",
       "      <td>Kim</td>\n",
       "      <td>24</td>\n",
       "      <td>Nanny</td>\n",
       "      <td>1</td>\n",
       "      <td>Medicine</td>\n",
       "      <td>Tempe</td>\n",
       "      <td>Arizona</td>\n",
       "      <td>61.0</td>\n",
       "      <td>116</td>\n",
       "      <td>3</td>\n",
       "      <td>Brunette</td>\n",
       "      <td>1</td>\n",
       "      <td>Blue</td>\n",
       "      <td>4</td>\n",
       "      <td>1</td>\n",
       "    </tr>\n",
       "    <tr>\n",
       "      <th>4</th>\n",
       "      <td>Cathy</td>\n",
       "      <td>22</td>\n",
       "      <td>Graduate Student</td>\n",
       "      <td>3</td>\n",
       "      <td>Retail</td>\n",
       "      <td>Terra Haute</td>\n",
       "      <td>Indiana</td>\n",
       "      <td>66.0</td>\n",
       "      <td>112</td>\n",
       "      <td>2</td>\n",
       "      <td>Blonde</td>\n",
       "      <td>3</td>\n",
       "      <td>Green</td>\n",
       "      <td>3</td>\n",
       "      <td>1</td>\n",
       "    </tr>\n",
       "  </tbody>\n",
       "</table>\n",
       "</div>"
      ],
      "text/plain": [
       "      Name  Age                       Occupation  Job Category  \\\n",
       "0   Amanda   23                    Event Planner             6   \n",
       "1   Trista   29                Miami Heat Dancer             5   \n",
       "2  Shannon   24  Financial Management Consultant             8   \n",
       "3      Kim   24                            Nanny             1   \n",
       "4    Cathy   22                 Graduate Student             3   \n",
       "\n",
       "  Job Category Description     Hometown    State  Height(in)  Weight(lbs)  \\\n",
       "0                  Service      Chanute   Kansas        65.0           91   \n",
       "1                Corporate        Miami  Florida        66.0          104   \n",
       "2            Entertainment       Dallas    Texas        64.0          156   \n",
       "3                 Medicine        Tempe  Arizona        61.0          116   \n",
       "4                   Retail  Terra Haute  Indiana        66.0          112   \n",
       "\n",
       "   Hair Color Code Hair Color  Eye Color Code Eye Color  ElimWeek  Season  \n",
       "0                2     Blonde               1      Blue         1       1  \n",
       "1                1      Black               2     Brown         6       1  \n",
       "2                2     Blonde               4     Black         5       1  \n",
       "3                3   Brunette               1      Blue         4       1  \n",
       "4                2     Blonde               3     Green         3       1  "
      ]
     },
     "execution_count": 2,
     "metadata": {},
     "output_type": "execute_result"
    }
   ],
   "source": [
    "bachelor = pd.read_csv(\"bachelor-contestants.csv\", encoding = \"ISO-8859-1\")\n",
    "bachelor.head()"
   ]
  },
  {
   "cell_type": "code",
   "execution_count": 3,
   "metadata": {},
   "outputs": [
    {
     "data": {
      "text/html": [
       "<div>\n",
       "<style scoped>\n",
       "    .dataframe tbody tr th:only-of-type {\n",
       "        vertical-align: middle;\n",
       "    }\n",
       "\n",
       "    .dataframe tbody tr th {\n",
       "        vertical-align: top;\n",
       "    }\n",
       "\n",
       "    .dataframe thead th {\n",
       "        text-align: right;\n",
       "    }\n",
       "</style>\n",
       "<table border=\"1\" class=\"dataframe\">\n",
       "  <thead>\n",
       "    <tr style=\"text-align: right;\">\n",
       "      <th></th>\n",
       "      <th>Age</th>\n",
       "      <th>Job Category</th>\n",
       "      <th>State</th>\n",
       "      <th>Height(in)</th>\n",
       "      <th>Weight(lbs)</th>\n",
       "      <th>Hair Color Code</th>\n",
       "      <th>Eye Color Code</th>\n",
       "      <th>ElimWeek</th>\n",
       "      <th>Season</th>\n",
       "    </tr>\n",
       "  </thead>\n",
       "  <tbody>\n",
       "    <tr>\n",
       "      <th>0</th>\n",
       "      <td>23</td>\n",
       "      <td>6</td>\n",
       "      <td>Kansas</td>\n",
       "      <td>65.0</td>\n",
       "      <td>91</td>\n",
       "      <td>2</td>\n",
       "      <td>1</td>\n",
       "      <td>1</td>\n",
       "      <td>1</td>\n",
       "    </tr>\n",
       "    <tr>\n",
       "      <th>1</th>\n",
       "      <td>29</td>\n",
       "      <td>5</td>\n",
       "      <td>Florida</td>\n",
       "      <td>66.0</td>\n",
       "      <td>104</td>\n",
       "      <td>1</td>\n",
       "      <td>2</td>\n",
       "      <td>6</td>\n",
       "      <td>1</td>\n",
       "    </tr>\n",
       "    <tr>\n",
       "      <th>2</th>\n",
       "      <td>24</td>\n",
       "      <td>8</td>\n",
       "      <td>Texas</td>\n",
       "      <td>64.0</td>\n",
       "      <td>156</td>\n",
       "      <td>2</td>\n",
       "      <td>4</td>\n",
       "      <td>5</td>\n",
       "      <td>1</td>\n",
       "    </tr>\n",
       "    <tr>\n",
       "      <th>3</th>\n",
       "      <td>24</td>\n",
       "      <td>1</td>\n",
       "      <td>Arizona</td>\n",
       "      <td>61.0</td>\n",
       "      <td>116</td>\n",
       "      <td>3</td>\n",
       "      <td>1</td>\n",
       "      <td>4</td>\n",
       "      <td>1</td>\n",
       "    </tr>\n",
       "    <tr>\n",
       "      <th>4</th>\n",
       "      <td>22</td>\n",
       "      <td>3</td>\n",
       "      <td>Indiana</td>\n",
       "      <td>66.0</td>\n",
       "      <td>112</td>\n",
       "      <td>2</td>\n",
       "      <td>3</td>\n",
       "      <td>3</td>\n",
       "      <td>1</td>\n",
       "    </tr>\n",
       "  </tbody>\n",
       "</table>\n",
       "</div>"
      ],
      "text/plain": [
       "   Age  Job Category    State  Height(in)  Weight(lbs)  Hair Color Code  \\\n",
       "0   23             6   Kansas        65.0           91                2   \n",
       "1   29             5  Florida        66.0          104                1   \n",
       "2   24             8    Texas        64.0          156                2   \n",
       "3   24             1  Arizona        61.0          116                3   \n",
       "4   22             3  Indiana        66.0          112                2   \n",
       "\n",
       "   Eye Color Code  ElimWeek  Season  \n",
       "0               1         1       1  \n",
       "1               2         6       1  \n",
       "2               4         5       1  \n",
       "3               1         4       1  \n",
       "4               3         3       1  "
      ]
     },
     "execution_count": 3,
     "metadata": {},
     "output_type": "execute_result"
    }
   ],
   "source": [
    "bachelor_df = bachelor.drop(columns=['Name', 'Hometown', 'Occupation', 'Job Category Description', 'Hair Color', 'Eye Color'])\n",
    "bachelor_df.head()"
   ]
  },
  {
   "cell_type": "code",
   "execution_count": 4,
   "metadata": {},
   "outputs": [
    {
     "name": "stdout",
     "output_type": "stream",
     "text": [
      "(423, 8) (423,)\n"
     ]
    }
   ],
   "source": [
    "X = bachelor_df.drop(\"ElimWeek\", axis=1)\n",
    "y = bachelor_df[\"ElimWeek\"]\n",
    "print(X.shape, y.shape)"
   ]
  },
  {
   "cell_type": "code",
   "execution_count": 5,
   "metadata": {},
   "outputs": [
    {
     "name": "stderr",
     "output_type": "stream",
     "text": [
      "C:\\ProgramData\\Anaconda3\\lib\\site-packages\\h5py\\__init__.py:36: FutureWarning: Conversion of the second argument of issubdtype from `float` to `np.floating` is deprecated. In future, it will be treated as `np.float64 == np.dtype(float).type`.\n",
      "  from ._conv import register_converters as _register_converters\n",
      "Using TensorFlow backend.\n"
     ]
    }
   ],
   "source": [
    "# import SKlearn model and preprocessing kits \n",
    "\n",
    "from sklearn.model_selection import train_test_split\n",
    "from sklearn.preprocessing import LabelEncoder, StandardScaler\n",
    "from keras.utils import to_categorical"
   ]
  },
  {
   "cell_type": "code",
   "execution_count": 6,
   "metadata": {},
   "outputs": [],
   "source": [
    "#Label-encode job category\n",
    "label_encoder = LabelEncoder()\n",
    "label_encoder.fit(X[\"Job Category\"])\n",
    "X2 = X\n",
    "encoded_X_jc = label_encoder.transform(X[\"Job Category\"])\n",
    "X2[\"Job Category\"] = encoded_X_jc\n",
    "\n",
    "#Label-encode hair color \n",
    "label_encoder = LabelEncoder()\n",
    "label_encoder.fit(X[\"Hair Color Code\"])\n",
    "X2 = X\n",
    "encoded_X_hair = label_encoder.transform(X[\"Hair Color Code\"])\n",
    "X2[\"Hair Color Code\"] = encoded_X_hair\n",
    "\n",
    "#label-encode eye color \n",
    "label_encoder = LabelEncoder()\n",
    "label_encoder.fit(X[\"Eye Color Code\"])\n",
    "X2 = X\n",
    "encoded_X_eye = label_encoder.transform(X[\"Eye Color Code\"])\n",
    "X2[\"Eye Color Code\"] = encoded_X_eye\n",
    "\n",
    "# label-encode season\n",
    "label_encoder = LabelEncoder()\n",
    "label_encoder.fit(X[\"Season\"])\n",
    "X2 = X\n",
    "encoded_X_season = label_encoder.transform(X[\"Season\"])\n",
    "X2[\"Season\"] = encoded_X_season\n",
    "\n",
    "# label-encode states\n",
    "label_encoder = LabelEncoder()\n",
    "label_encoder.fit(X[\"State\"])\n",
    "X2 = X\n",
    "encoded_X_state = label_encoder.transform(X[\"State\"])\n",
    "X2[\"State\"] = encoded_X_state\n",
    "\n",
    "# label-encode y \n",
    "one_hot_y = to_categorical(y)"
   ]
  },
  {
   "cell_type": "code",
   "execution_count": null,
   "metadata": {
    "scrolled": false
   },
   "outputs": [],
   "source": [
    "for label, original_class in zip(encoded_X_jc, X[\"Job Category\"]):\n",
    "    print('Original Class: ' + str(original_class))\n",
    "    print('Encoded Label: ' + str(label))\n",
    "    print('-' * 12)"
   ]
  },
  {
   "cell_type": "code",
   "execution_count": null,
   "metadata": {},
   "outputs": [],
   "source": [
    "for label, original_class in zip(encoded_X_hair, X[\"Hair Color Code\"]):\n",
    "    print('Original Class: ' + str(original_class))\n",
    "    print('Encoded Label: ' + str(label))\n",
    "    print('-' * 12)"
   ]
  },
  {
   "cell_type": "code",
   "execution_count": null,
   "metadata": {},
   "outputs": [],
   "source": [
    "for label, original_class in zip(encoded_X_eye, X[\"Eye Color Code\"]):\n",
    "    print('Original Class: ' + str(original_class))\n",
    "    print('Encoded Label: ' + str(label))\n",
    "    print('-' * 12)"
   ]
  },
  {
   "cell_type": "code",
   "execution_count": null,
   "metadata": {},
   "outputs": [],
   "source": [
    "for label, original_class in zip(encoded_X_season, X[\"Season\"]):\n",
    "    print('Original Class: ' + str(original_class))\n",
    "    print('Encoded Label: ' + str(label))\n",
    "    print('-' * 12)"
   ]
  },
  {
   "cell_type": "code",
   "execution_count": null,
   "metadata": {
    "scrolled": true
   },
   "outputs": [],
   "source": [
    "for label, original_class in zip(encoded_X_state, X[\"State\"]):\n",
    "    print('Original Class: ' + str(original_class))\n",
    "    print('Encoded Label: ' + str(label))\n",
    "    print('-' * 12)"
   ]
  },
  {
   "cell_type": "code",
   "execution_count": 12,
   "metadata": {},
   "outputs": [
    {
     "data": {
      "text/plain": [
       "array([[0., 0., 0., ..., 1., 0., 0.],\n",
       "       [0., 0., 0., ..., 0., 0., 0.],\n",
       "       [0., 0., 0., ..., 0., 0., 1.],\n",
       "       ...,\n",
       "       [0., 0., 1., ..., 0., 0., 0.],\n",
       "       [0., 0., 0., ..., 0., 1., 0.],\n",
       "       [1., 0., 0., ..., 0., 0., 0.]])"
      ]
     },
     "execution_count": 12,
     "metadata": {},
     "output_type": "execute_result"
    }
   ],
   "source": [
    "#One-hot encoding\n",
    "one_hot_jc= to_categorical(encoded_X_jc)\n",
    "one_hot_jc"
   ]
  },
  {
   "cell_type": "code",
   "execution_count": 13,
   "metadata": {},
   "outputs": [
    {
     "data": {
      "text/plain": [
       "array([[0., 1., 0., 0.],\n",
       "       [1., 0., 0., 0.],\n",
       "       [0., 1., 0., 0.],\n",
       "       ...,\n",
       "       [0., 1., 0., 0.],\n",
       "       [0., 1., 0., 0.],\n",
       "       [0., 1., 0., 0.]])"
      ]
     },
     "execution_count": 13,
     "metadata": {},
     "output_type": "execute_result"
    }
   ],
   "source": [
    "one_hot_hair = to_categorical(encoded_X_hair)\n",
    "one_hot_hair"
   ]
  },
  {
   "cell_type": "code",
   "execution_count": 14,
   "metadata": {},
   "outputs": [
    {
     "data": {
      "text/plain": [
       "array([[1., 0., 0., 0.],\n",
       "       [0., 1., 0., 0.],\n",
       "       [0., 0., 0., 1.],\n",
       "       ...,\n",
       "       [0., 0., 1., 0.],\n",
       "       [1., 0., 0., 0.],\n",
       "       [0., 0., 1., 0.]])"
      ]
     },
     "execution_count": 14,
     "metadata": {},
     "output_type": "execute_result"
    }
   ],
   "source": [
    "one_hot_eye = to_categorical(encoded_X_eye)\n",
    "one_hot_eye"
   ]
  },
  {
   "cell_type": "code",
   "execution_count": 15,
   "metadata": {},
   "outputs": [
    {
     "data": {
      "text/plain": [
       "array([[1., 0., 0., ..., 0., 0., 0.],\n",
       "       [1., 0., 0., ..., 0., 0., 0.],\n",
       "       [1., 0., 0., ..., 0., 0., 0.],\n",
       "       ...,\n",
       "       [0., 0., 0., ..., 0., 0., 1.],\n",
       "       [0., 0., 0., ..., 0., 0., 1.],\n",
       "       [0., 0., 0., ..., 0., 0., 1.]])"
      ]
     },
     "execution_count": 15,
     "metadata": {},
     "output_type": "execute_result"
    }
   ],
   "source": [
    "one_hot_season = to_categorical(encoded_X_season)\n",
    "one_hot_season"
   ]
  },
  {
   "cell_type": "code",
   "execution_count": 16,
   "metadata": {
    "scrolled": true
   },
   "outputs": [
    {
     "data": {
      "text/plain": [
       "array([[0., 0., 0., ..., 0., 0., 0.],\n",
       "       [0., 0., 0., ..., 0., 0., 0.],\n",
       "       [0., 0., 0., ..., 0., 0., 0.],\n",
       "       ...,\n",
       "       [0., 0., 0., ..., 0., 0., 0.],\n",
       "       [0., 0., 0., ..., 0., 0., 0.],\n",
       "       [0., 0., 0., ..., 0., 0., 0.]])"
      ]
     },
     "execution_count": 16,
     "metadata": {},
     "output_type": "execute_result"
    }
   ],
   "source": [
    "one_hot_state = to_categorical(encoded_X_state)\n",
    "one_hot_state"
   ]
  },
  {
   "cell_type": "code",
   "execution_count": 17,
   "metadata": {},
   "outputs": [],
   "source": [
    "########################################################"
   ]
  },
  {
   "cell_type": "code",
   "execution_count": 266,
   "metadata": {},
   "outputs": [
    {
     "data": {
      "text/plain": [
       "(317, 11)"
      ]
     },
     "execution_count": 266,
     "metadata": {},
     "output_type": "execute_result"
    }
   ],
   "source": [
    "X_train, X_test, y_train, y_test = train_test_split(X2, one_hot_y, random_state=1, stratify=y,shuffle=True)\n",
    "\n",
    "\n",
    "X_scaler = StandardScaler().fit(X_train)\n",
    "\n",
    "X_train_scaled = X_scaler.transform(X_train)\n",
    "X_test_scaled = X_scaler.transform(X_test)\n",
    "\n",
    "y_scaler =y_scaler = StandardScaler().fit(y_train)\n",
    "\n",
    "y_train_scaled = y_scaler.transform(y_train)\n",
    "y_test_scaled = y_scaler.transform(y_test)\n",
    "\n",
    "# The output layer has 11 columns that are one-hot encoded\n",
    "y_train.shape"
   ]
  },
  {
   "cell_type": "code",
   "execution_count": 267,
   "metadata": {},
   "outputs": [
    {
     "data": {
      "text/plain": [
       "(317, 8)"
      ]
     },
     "execution_count": 267,
     "metadata": {},
     "output_type": "execute_result"
    }
   ],
   "source": [
    "X_train.shape"
   ]
  },
  {
   "cell_type": "code",
   "execution_count": 285,
   "metadata": {},
   "outputs": [
    {
     "name": "stdout",
     "output_type": "stream",
     "text": [
      "_________________________________________________________________\n",
      "Layer (type)                 Output Shape              Param #   \n",
      "=================================================================\n",
      "dense_301 (Dense)            (None, 88)                792       \n",
      "_________________________________________________________________\n",
      "dropout_160 (Dropout)        (None, 88)                0         \n",
      "_________________________________________________________________\n",
      "dense_302 (Dense)            (None, 44)                3916      \n",
      "_________________________________________________________________\n",
      "dropout_161 (Dropout)        (None, 44)                0         \n",
      "_________________________________________________________________\n",
      "dense_303 (Dense)            (None, 22)                990       \n",
      "_________________________________________________________________\n",
      "dropout_162 (Dropout)        (None, 22)                0         \n",
      "_________________________________________________________________\n",
      "dense_304 (Dense)            (None, 15)                345       \n",
      "_________________________________________________________________\n",
      "dense_305 (Dense)            (None, 11)                176       \n",
      "_________________________________________________________________\n",
      "dropout_163 (Dropout)        (None, 11)                0         \n",
      "=================================================================\n",
      "Total params: 6,219\n",
      "Trainable params: 6,219\n",
      "Non-trainable params: 0\n",
      "_________________________________________________________________\n"
     ]
    }
   ],
   "source": [
    "from keras.models import Sequential\n",
    "from keras.utils import to_categorical\n",
    "from keras.layers import Dense,Dropout, Flatten\n",
    "from keras import regularizers\n",
    "\n",
    "number_inputs = 8\n",
    "\n",
    "model = Sequential()\n",
    "\n",
    "model.add(Dense(88, activation='relu', input_dim=number_inputs,kernel_regularizer=regularizers.l2(0.05),\n",
    "                activity_regularizer=regularizers.l2(0.03)))\n",
    "    #https://faroit.github.io/keras-docs/1.1.1/regularizers/#example\n",
    "    \n",
    "model.add(Dropout(0.2))\n",
    "\n",
    "model.add(Dense(44, activation='tanh'))\n",
    "model.add(Dropout(0.5))\n",
    "\n",
    "model.add(Dense(22, activation='tanh'))\n",
    "model.add(Dropout(0.5))\n",
    "\n",
    "model.add(Dense(15, activation='tanh'))\n",
    "\n",
    "# Output layer\n",
    "model.add(Dense(11, activation='softmax'))\n",
    "model.add(Dropout(0.2))\n",
    "\n",
    "# Model compile\n",
    "model.compile(loss=\"categorical_crossentropy\", optimizer=\"adam\", metrics=['accuracy'])\n",
    "model.summary()"
   ]
  },
  {
   "cell_type": "code",
   "execution_count": 286,
   "metadata": {
    "scrolled": true
   },
   "outputs": [
    {
     "name": "stdout",
     "output_type": "stream",
     "text": [
      "Epoch 1/40\n",
      "317/317 [==============================] - 2s 7ms/step - loss: 2.3849 - acc: 0.0789\n",
      "Epoch 2/40\n",
      "317/317 [==============================] - 0s 531us/step - loss: 2.9905 - acc: 0.1073\n",
      "Epoch 3/40\n",
      "317/317 [==============================] - 0s 528us/step - loss: 0.0327 - acc: 0.1104\n",
      "Epoch 4/40\n",
      "317/317 [==============================] - 0s 491us/step - loss: -0.7409 - acc: 0.0820\n",
      "Epoch 5/40\n",
      "317/317 [==============================] - 0s 512us/step - loss: 1.0447 - acc: 0.1483\n",
      "Epoch 6/40\n",
      "317/317 [==============================] - 0s 554us/step - loss: 1.5336 - acc: 0.1325\n",
      "Epoch 7/40\n",
      "317/317 [==============================] - 0s 595us/step - loss: 1.0372 - acc: 0.0883\n",
      "Epoch 8/40\n",
      "317/317 [==============================] - 0s 535us/step - loss: -0.7477 - acc: 0.1546\n",
      "Epoch 9/40\n",
      "317/317 [==============================] - 0s 554us/step - loss: -1.0710 - acc: 0.1640\n",
      "Epoch 10/40\n",
      "317/317 [==============================] - 0s 519us/step - loss: 0.2303 - acc: 0.1735\n",
      "Epoch 11/40\n",
      "317/317 [==============================] - 0s 525us/step - loss: 0.8738 - acc: 0.1451\n",
      "Epoch 12/40\n",
      "317/317 [==============================] - 0s 525us/step - loss: 1.5103 - acc: 0.1388\n",
      "Epoch 13/40\n",
      "317/317 [==============================] - 0s 551us/step - loss: -1.0774 - acc: 0.2145\n",
      "Epoch 14/40\n",
      "317/317 [==============================] - 0s 490us/step - loss: 0.9670 - acc: 0.1798\n",
      "Epoch 15/40\n",
      "317/317 [==============================] - 0s 516us/step - loss: -2.3250 - acc: 0.2082\n",
      "Epoch 16/40\n",
      "317/317 [==============================] - 0s 491us/step - loss: -1.0355 - acc: 0.2019\n",
      "Epoch 17/40\n",
      "317/317 [==============================] - 0s 541us/step - loss: 0.0177 - acc: 0.1861\n",
      "Epoch 18/40\n",
      "317/317 [==============================] - 0s 528us/step - loss: -2.4079 - acc: 0.2114\n",
      "Epoch 19/40\n",
      "317/317 [==============================] - 0s 522us/step - loss: 0.3746 - acc: 0.2050\n",
      "Epoch 20/40\n",
      "317/317 [==============================] - 0s 617us/step - loss: -3.0821 - acc: 0.2366\n",
      "Epoch 21/40\n",
      "317/317 [==============================] - 0s 493us/step - loss: -1.1915 - acc: 0.2397\n",
      "Epoch 22/40\n",
      "317/317 [==============================] - 0s 506us/step - loss: -0.7477 - acc: 0.2114\n",
      "Epoch 23/40\n",
      "317/317 [==============================] - 0s 498us/step - loss: -1.7419 - acc: 0.2429\n",
      "Epoch 24/40\n",
      "317/317 [==============================] - 0s 503us/step - loss: -1.2632 - acc: 0.2713\n",
      "Epoch 25/40\n",
      "317/317 [==============================] - 0s 525us/step - loss: -1.5132 - acc: 0.2334\n",
      "Epoch 26/40\n",
      "317/317 [==============================] - 0s 469us/step - loss: 1.0721 - acc: 0.2366\n",
      "Epoch 27/40\n",
      "317/317 [==============================] - 0s 547us/step - loss: -1.8383 - acc: 0.2650\n",
      "Epoch 28/40\n",
      "317/317 [==============================] - 0s 493us/step - loss: -1.5083 - acc: 0.2429\n",
      "Epoch 29/40\n",
      "317/317 [==============================] - 0s 535us/step - loss: -2.1989 - acc: 0.2776\n",
      "Epoch 30/40\n",
      "317/317 [==============================] - 0s 503us/step - loss: -2.5819 - acc: 0.2839\n",
      "Epoch 31/40\n",
      "317/317 [==============================] - 0s 531us/step - loss: -4.1044 - acc: 0.2650\n",
      "Epoch 32/40\n",
      "317/317 [==============================] - 0s 512us/step - loss: -4.5928 - acc: 0.3028\n",
      "Epoch 33/40\n",
      "317/317 [==============================] - 0s 501us/step - loss: -3.8261 - acc: 0.2776\n",
      "Epoch 34/40\n",
      "317/317 [==============================] - 0s 541us/step - loss: -4.3426 - acc: 0.2902\n",
      "Epoch 35/40\n",
      "317/317 [==============================] - 0s 509us/step - loss: -5.4867 - acc: 0.3249\n",
      "Epoch 36/40\n",
      "317/317 [==============================] - 0s 528us/step - loss: -5.6065 - acc: 0.2871\n",
      "Epoch 37/40\n",
      "317/317 [==============================] - 0s 500us/step - loss: -5.2824 - acc: 0.3028\n",
      "Epoch 38/40\n",
      "317/317 [==============================] - 0s 598us/step - loss: -6.3641 - acc: 0.2902\n",
      "Epoch 39/40\n",
      "317/317 [==============================] - 0s 513us/step - loss: -7.4520 - acc: 0.3281\n",
      "Epoch 40/40\n",
      "317/317 [==============================] - 0s 490us/step - loss: -3.0937 - acc: 0.3155\n"
     ]
    },
    {
     "data": {
      "text/plain": [
       "<keras.callbacks.History at 0x1ffe92fc048>"
      ]
     },
     "execution_count": 286,
     "metadata": {},
     "output_type": "execute_result"
    }
   ],
   "source": [
    "# Use the training data to fit (train) the model\n",
    "model.fit(\n",
    "    X_train_scaled,\n",
    "    y_train_scaled,\n",
    "    epochs=40, #35-40 before loss skyrockets with current parameters\n",
    "    shuffle=False, \n",
    "    verbose=True,\n",
    "    batch_size = 11\n",
    ")"
   ]
  },
  {
   "cell_type": "code",
   "execution_count": 287,
   "metadata": {},
   "outputs": [
    {
     "name": "stdout",
     "output_type": "stream",
     "text": [
      "Loss: -2.8599845688298062, Accuracy: 0.2924528304698332\n"
     ]
    }
   ],
   "source": [
    "# Evaluate the model using the training data \n",
    "model_loss, model_accuracy = model.evaluate(X_test_scaled, y_test_scaled, verbose=2)\n",
    "print(f\"Loss: {model_loss}, Accuracy: {model_accuracy}\")"
   ]
  },
  {
   "cell_type": "code",
   "execution_count": 288,
   "metadata": {},
   "outputs": [
    {
     "data": {
      "text/plain": [
       "array([ 1,  3,  1,  1,  1,  1,  1,  1,  1,  1,  8, 10,  1,  1,  1,  1,  1,\n",
       "        1,  7,  1,  1, 10,  1, 10,  1,  1,  1,  7,  1,  1,  9,  1,  1, 10,\n",
       "        1,  1, 10,  7,  1,  8, 10,  1,  7,  1,  1,  1,  1, 10,  7,  1,  1,\n",
       "        1, 10,  9, 10, 10, 10,  1,  1,  1,  1,  1, 10,  1,  1, 10, 10, 10,\n",
       "       10,  1,  7, 10,  1,  1,  1, 10, 10, 10,  1, 10,  1,  1,  1,  1,  1,\n",
       "        1,  1, 10,  8,  1,  1,  1,  9,  1,  1, 10,  1,  1,  1,  1, 10,  1,\n",
       "        1,  1,  1,  3], dtype=int64)"
      ]
     },
     "execution_count": 288,
     "metadata": {},
     "output_type": "execute_result"
    }
   ],
   "source": [
    "model.predict_classes(X_test_scaled)"
   ]
  },
  {
   "cell_type": "code",
   "execution_count": 289,
   "metadata": {},
   "outputs": [
    {
     "data": {
      "text/plain": [
       "array([[1.8842586e-03, 9.7337669e-01, 2.3111576e-02, ..., 6.1820063e-04,\n",
       "        2.9733069e-08, 2.6969039e-08],\n",
       "       [4.1845839e-02, 4.3501982e-01, 4.6264149e-02, ..., 7.6681278e-03,\n",
       "        1.6606952e-03, 2.8437872e-03],\n",
       "       [4.0534306e-03, 9.7527814e-01, 1.7201774e-02, ..., 1.5464848e-03,\n",
       "        2.8736795e-07, 4.0479023e-07],\n",
       "       ...,\n",
       "       [1.8255546e-03, 9.7348481e-01, 2.3026576e-02, ..., 5.5746798e-04,\n",
       "        2.8716453e-08, 2.4223596e-08],\n",
       "       [1.8323788e-03, 9.7337657e-01, 2.3131309e-02, ..., 5.6719832e-04,\n",
       "        2.8922846e-08, 2.4457380e-08],\n",
       "       [6.2616975e-03, 3.7964907e-01, 1.5404885e-02, ..., 2.1802803e-04,\n",
       "        3.9599890e-05, 7.6596516e-05]], dtype=float32)"
      ]
     },
     "execution_count": 289,
     "metadata": {},
     "output_type": "execute_result"
    }
   ],
   "source": [
    "model.predict(X_test_scaled)"
   ]
  },
  {
   "cell_type": "code",
   "execution_count": 26,
   "metadata": {},
   "outputs": [],
   "source": [
    "# Save the model\n",
    "model.save(\"bachelor_trained_test.h5\")"
   ]
  },
  {
   "cell_type": "code",
   "execution_count": 27,
   "metadata": {},
   "outputs": [],
   "source": [
    "# Load the model\n",
    "from keras.models import load_model\n",
    "model = load_model(\"bachelor_trained_test.h5\")"
   ]
  },
  {
   "cell_type": "code",
   "execution_count": null,
   "metadata": {},
   "outputs": [],
   "source": []
  },
  {
   "cell_type": "code",
   "execution_count": null,
   "metadata": {},
   "outputs": [],
   "source": [
    "# test predict with mock data \n",
    "\n",
    "# new_data = np.array([[0.2, 0.3, 0.4, 0.5, 0.6, 0.7, 0.8, 0.9]])\n",
    "\n",
    "# prediction_class = model.predict_classes(new_data)\n",
    "\n",
    "# print(f\"Predicted class: {}\")"
   ]
  },
  {
   "cell_type": "code",
   "execution_count": null,
   "metadata": {},
   "outputs": [],
   "source": []
  },
  {
   "cell_type": "code",
   "execution_count": null,
   "metadata": {},
   "outputs": [],
   "source": []
  },
  {
   "cell_type": "code",
   "execution_count": null,
   "metadata": {},
   "outputs": [],
   "source": []
  }
 ],
 "metadata": {
  "kernelspec": {
   "display_name": "Python 3",
   "language": "python",
   "name": "python3"
  },
  "language_info": {
   "codemirror_mode": {
    "name": "ipython",
    "version": 3
   },
   "file_extension": ".py",
   "mimetype": "text/x-python",
   "name": "python",
   "nbconvert_exporter": "python",
   "pygments_lexer": "ipython3",
   "version": "3.6.4"
  }
 },
 "nbformat": 4,
 "nbformat_minor": 2
}
